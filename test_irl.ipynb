{
 "cells": [
  {
   "cell_type": "code",
   "execution_count": null,
   "metadata": {},
   "outputs": [],
   "source": [
    "%load_ext autoreload\n",
    "%autoreload 2"
   ]
  },
  {
   "cell_type": "code",
   "execution_count": null,
   "metadata": {},
   "outputs": [],
   "source": [
    "import tiktoken\n",
    "import torch\n",
    "from trl import AutoModelForCausalLMWithValueHead, PPOConfig, PPOTrainer\n",
    "from torch.nn import functional as F\n",
    "\n",
    "device = \"cuda\"\n",
    "\n",
    "sample_rng = torch.Generator(device=device)\n",
    "\n",
    "model = AutoModelForCausalLMWithValueHead.from_pretrained(\"gpt2\")\n",
    "model.to(device)\n",
    "\n",
    "def add_key_prefix(prefix, d):\n",
    "    return dict((prefix + k, v) if \"v_head\" not in k else (k, v) for k, v in d.items())"
   ]
  },
  {
   "cell_type": "code",
   "execution_count": null,
   "metadata": {},
   "outputs": [],
   "source": [
    "# def add_key_prefix(prefix, d):\n",
    "#     return dict((prefix + k, v) if \"v_head\" not in k else (k, v) for k, v in d.items())"
   ]
  },
  {
   "cell_type": "code",
   "execution_count": null,
   "metadata": {},
   "outputs": [],
   "source": [
    "model.load_state_dict(add_key_prefix(\"pretrained_model.\", torch.load(\"log/model_00000.pt\")[\"student_model\"]))\n",
    "model.load_state_dict(add_key_prefix(\"pretrained_model.\", torch.load(\"log/model_01000.pt\")[\"student_model\"]))\n",
    "model.load_state_dict(add_key_prefix(\"pretrained_model.\", torch.load(\"log/model_02000.pt\")[\"student_model\"]))\n",
    "model.load_state_dict(add_key_prefix(\"pretrained_model.\", torch.load(\"log/model_03000.pt\")[\"student_model\"]))\n",
    "model.load_state_dict(add_key_prefix(\"pretrained_model.\", torch.load(\"log/model_04000.pt\")[\"student_model\"]))\n",
    "model.load_state_dict(add_key_prefix(\"pretrained_model.\", torch.load(\"log/model_08000.pt\")[\"student_model\"]))"
   ]
  },
  {
   "cell_type": "code",
   "execution_count": null,
   "metadata": {},
   "outputs": [],
   "source": [
    "from transformers import GPT2LMHeadModel\n",
    "\n",
    "model = GPT2LMHeadModel.from_pretrained(\"gpt2\")\n",
    "model.load_state_dict(torch.load(\"log/model_08000.pt\")[\"expert_model\"])\n",
    "model.to(device)"
   ]
  },
  {
   "cell_type": "code",
   "execution_count": null,
   "metadata": {},
   "outputs": [],
   "source": [
    "enc = tiktoken.get_encoding('gpt2')\n",
    "# tokens = enc.encode(\"You are all resolved. \")\n",
    "tokens = enc.encode(\"1+1=\")\n",
    "tokens = torch.tensor(tokens, dtype=torch.long) # (8,)\n",
    "tokens = tokens.unsqueeze(0).repeat(5, 1) # (5, 8)\n",
    "\n",
    "xgen = tokens.to(device)\n",
    "max_length = 60\n",
    "\n",
    "while xgen.size(1) < max_length:\n",
    "    # forward the model to get the logits\n",
    "    with torch.no_grad():\n",
    "        with torch.autocast(device_type=device, dtype=torch.bfloat16):\n",
    "            logits = model(xgen)[0] # (B, T, vocab_size)\n",
    "        # take the logits at the last position\n",
    "        logits = logits[:, -1, :] # (B, vocab_size)\n",
    "        # get the probabilities\n",
    "        probs = F.softmax(logits, dim=-1)\n",
    "        # do top-k sampling of 50 (huggingface pipeline default)\n",
    "        # topk_probs here becomes (5, 50), topk_indices is (5, 50)\n",
    "        topk_probs, topk_indices = torch.topk(probs, 50, dim=-1)\n",
    "        # select a token from the top-k probabilities\n",
    "        # note: multinomial does not demand the input to sum to 1\n",
    "        ix = torch.multinomial(topk_probs, 1, generator=sample_rng) # (B, 1)\n",
    "        # gather the corresponding indices\n",
    "        xcol = torch.gather(topk_indices, -1, ix) # (B, 1)\n",
    "        # append to the sequence\n",
    "        xgen = torch.cat((xgen, xcol), dim=1)\n",
    "\n",
    "output = xgen\n",
    "\n",
    "for i in range(5):\n",
    "    output_tokens = output[i, :60].tolist()\n",
    "    decoded = enc.decode(output_tokens)\n",
    "    print(\">\", decoded)"
   ]
  }
 ],
 "metadata": {
  "language_info": {
   "name": "python"
  }
 },
 "nbformat": 4,
 "nbformat_minor": 2
}
